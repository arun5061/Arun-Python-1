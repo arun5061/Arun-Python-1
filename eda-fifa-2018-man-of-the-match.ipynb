{
 "cells": [
  {
   "cell_type": "markdown",
   "metadata": {
    "_uuid": "6546afbb3713467e713c8ae8b92d90ff1640a5e2"
   },
   "source": [
    "# Problem - Predict FIFA 2018 Man of the Match"
   ]
  },
  {
   "cell_type": "markdown",
   "metadata": {
    "_uuid": "c834488cee891b5bce26017fa6cb8a699eaa2972"
   },
   "source": [
    "***If you find the content informative to any extend, kindly encourge me by upvoting. ***"
   ]
  },
  {
   "cell_type": "markdown",
   "metadata": {
    "_uuid": "9168a1c7240a5a182856b718dc6b7de8b50d3f44"
   },
   "source": [
    "## Load Libraries"
   ]
  },
  {
   "cell_type": "code",
   "execution_count": null,
   "metadata": {
    "_uuid": "2a7e77974e32aab6234f6e888529c5f9b19b89a6"
   },
   "outputs": [],
   "source": [
    "import pandas as pd\n",
    "import numpy as np\n",
    "import seaborn as sns\n",
    "from scipy.stats import skew\n",
    "\n",
    "import matplotlib.pyplot as plt\n",
    "%matplotlib inline\n",
    "\n",
    "import warnings\n",
    "warnings.filterwarnings('ignore')"
   ]
  },
  {
   "cell_type": "code",
   "execution_count": null,
   "metadata": {
    "_uuid": "015aea330d047ddd315eed05451449a68cc6b69c"
   },
   "outputs": [],
   "source": [
    "data = pd.read_csv('../input/FIFA 2018 Statistics.csv')"
   ]
  },
  {
   "cell_type": "code",
   "execution_count": null,
   "metadata": {
    "_uuid": "4ff007bfddd57ee2aa33a8acfcbf00d8f79ba2c6"
   },
   "outputs": [],
   "source": [
    "data.shape"
   ]
  },
  {
   "cell_type": "code",
   "execution_count": null,
   "metadata": {
    "_uuid": "f6aed3826b92c3a808e33ecd83910fc85b0fcac9"
   },
   "outputs": [],
   "source": [
    "numerical_features   = data.select_dtypes(include = [np.number]).columns\n",
    "categorical_features = data.select_dtypes(include= [np.object]).columns"
   ]
  },
  {
   "cell_type": "code",
   "execution_count": null,
   "metadata": {
    "_uuid": "15e0c29c03de17132e3a592524478645ca3c46e4"
   },
   "outputs": [],
   "source": [
    "numerical_features"
   ]
  },
  {
   "cell_type": "code",
   "execution_count": null,
   "metadata": {
    "_uuid": "47d7ccda48ab0afdc2374e3db04b21873a0757b1"
   },
   "outputs": [],
   "source": [
    "categorical_features"
   ]
  },
  {
   "cell_type": "markdown",
   "metadata": {
    "_uuid": "e6a823b8519bad42819b2f0f6047a9e036721d99"
   },
   "source": [
    "## Univariate Analysis"
   ]
  },
  {
   "cell_type": "code",
   "execution_count": null,
   "metadata": {
    "_uuid": "207b9ee43b93ac8abccce8da60960f4e63bc31a0"
   },
   "outputs": [],
   "source": [
    "data.describe()"
   ]
  },
  {
   "cell_type": "code",
   "execution_count": null,
   "metadata": {
    "_uuid": "be16610e6cee38dd450d99cdbe053d9dffe62c1a"
   },
   "outputs": [],
   "source": [
    "data.hist(figsize=(30,30))\n",
    "plt.plot()"
   ]
  },
  {
   "cell_type": "code",
   "execution_count": null,
   "metadata": {
    "_uuid": "69138db9cc1a1b8765858b99c477c71500199eee"
   },
   "outputs": [],
   "source": [
    "skew_values = skew(data[numerical_features], nan_policy = 'omit')\n",
    "pd.concat([pd.DataFrame(list(numerical_features), columns=['Features']), \n",
    "           pd.DataFrame(list(skew_values), columns=['Skewness degree'])], axis = 1)"
   ]
  },
  {
   "cell_type": "markdown",
   "metadata": {
    "_uuid": "bdbb83980866728b035da86499ac7c10d17ae0bf"
   },
   "source": [
    "For normally distributed data, the skewness should be about 0. For unimodal continuous distributions, a skewness value > 0 means that there is more weight in the right tail of the distribution. The function skewtest can be used to determine if the skewness value is close enough to 0, statistically speaking.\n",
    "\n",
    "Although data is not normally distribute, there are positive as well have negative skewedness\n",
    "- 'Yello & Red', 'Red' and 'Goals in PSO' are highly positively skewed.\n"
   ]
  },
  {
   "cell_type": "code",
   "execution_count": null,
   "metadata": {
    "_uuid": "5ec9339371540c444170222d34e5914afb0d44ed"
   },
   "outputs": [],
   "source": [
    "# Missing values\n",
    "missing_values = data.isnull().sum().sort_values(ascending = False)\n",
    "percentage_missing_values = (missing_values/len(data))*100\n",
    "pd.concat([missing_values, percentage_missing_values], axis = 1, keys= ['Missing values', '% Missing'])"
   ]
  },
  {
   "cell_type": "code",
   "execution_count": null,
   "metadata": {
    "_uuid": "daa7f0f15e67061d40ec21125cc86d14db52f411"
   },
   "outputs": [],
   "source": [
    "# encode target variable 'Man of the match' into binary format\n",
    "data['Man of the Match'] = data['Man of the Match'].map({'Yes': 1, 'No': 0})"
   ]
  },
  {
   "cell_type": "code",
   "execution_count": null,
   "metadata": {
    "_uuid": "208255a8b2d6ebc4f2949949d6e48c27790a740b"
   },
   "outputs": [],
   "source": [
    "sns.countplot(x = 'Man of the Match', data = data)"
   ]
  },
  {
   "cell_type": "markdown",
   "metadata": {
    "_uuid": "021ff0a92e0ac32eb711f1888ff445a60800e48a"
   },
   "source": [
    "# Bivariate analysis\n",
    "    - Understanding how statistics of one feature is impacted in presence of other features\n",
    "    - Commonly used tools are:\n",
    "        - Pearson Correlation Coefficient (or) scatter plots\n",
    "        - Pairplots"
   ]
  },
  {
   "cell_type": "markdown",
   "metadata": {
    "_uuid": "f5815f082137453b8d38f7b3a183c31507a66f57"
   },
   "source": [
    " ##### Correlation Coefficient\n",
    " - The Pearson product-moment correlation coefficient, also known as r, R, or Pearson's r, is a measure of the strength and direction of the linear relationship between two variables that is defined as the covariance of the variables divided by the product of their standard deviations.\n",
    " - It is of two type: Positive correlation and Negative correlation\n",
    "     - positive correlation if the values of two variables changing with same direction\n",
    "     - negative correlation when the values ofvariables change with opposite direction\n",
    " - r values always lie between -1 to + 1\n",
    " - Interpretation:\n",
    "        Exactly -1. A perfect downhill (negative) linear relationship\n",
    "        0.70. A strong downhill (negative) linear relationship\n",
    "        0.50. A moderate downhill (negative) relationship\n",
    "        0.30. A weak downhill (negative) linear relationship\n",
    "        0. No linear relationship\n",
    "        +0.30. A weak uphill (positive) linear relationship\n",
    "        +0.50. A moderate uphill (positive) relationship\n",
    "        +0.70. A strong uphill (positive) linear relationship\n",
    "        Exactly +1. A perfect uphill (positive) linear relationship\n"
   ]
  },
  {
   "cell_type": "code",
   "execution_count": null,
   "metadata": {
    "_uuid": "ad55bbbbb65da9c88a3f7b6cf5f3475d057cda36"
   },
   "outputs": [],
   "source": [
    "plt.figure(figsize=(30,10))\n",
    "sns.heatmap(data[numerical_features].corr(), square=True, annot=True,robust=True, yticklabels=1)"
   ]
  },
  {
   "cell_type": "code",
   "execution_count": null,
   "metadata": {
    "_uuid": "3eaa3dc5beffcd807b9435a811846d2b0546384f",
    "scrolled": false
   },
   "outputs": [],
   "source": [
    "var = ['Man of the Match','Goal Scored', 'On-Target', 'Corners', 'Attempts', 'Free Kicks', 'Yellow Card', 'Red', \n",
    "       'Fouls Committed', 'Own goal Time']\n",
    "corr = data.corr()\n",
    "corr = corr.filter(items = ['Man of the Match'])\n",
    "plt.figure(figsize=(15,8))\n",
    "sns.heatmap(corr, annot=True)"
   ]
  },
  {
   "cell_type": "markdown",
   "metadata": {
    "_uuid": "f039700ac4c09dc63d142d798b715d7884d310a9"
   },
   "source": [
    "- 'Man of the Match' is highly correlated with 'Goal Scored', 'On-Target', 'Corners', 'Attempts', 'free Kicks', 'Yellow Card', 'red', 'Fouls Committed', 'Own goal Time'\n",
    "- OWn goal time is twins of 'Ball possession %', and Passes, pass Accuracy\n",
    "- Pass HCW Pass Accuracy %\n",
    "- passes SCW 'Ball possession %\n",
    "- Passes HCW 'Attempts'\n",
    "- Goals in PSO SCW DIstance Covered (Kms)\n",
    "\n",
    "- Correlated columns needs to be removed to avoid multicollinearity. Let's use multicollinearity check"
   ]
  },
  {
   "cell_type": "markdown",
   "metadata": {
    "_uuid": "c5b046f9f3a203bb67639da1029ae6f8fa9fddf6"
   },
   "source": [
    "- These features have least or no correlation with 'Man of the Match'\n",
    "    - ['Blocked', 'OffSides', 'Saves','Distance Covered (Kms)', 'Yellow & Red', '1st Goal', 'Goals in PSO']\n",
    "    - These features will not have impact on aur analysis and thus, holding them or retaining them is our choice\n",
    "    - We will see what to do with these later"
   ]
  },
  {
   "cell_type": "code",
   "execution_count": null,
   "metadata": {
    "_uuid": "36b9d7943cba8a86d0d4d4c7995c1434d6b6b775"
   },
   "outputs": [],
   "source": [
    "var = ['Goal Scored', 'On-Target', 'Corners', 'Attempts', 'Free Kicks', 'Yellow Card', 'Red', \n",
    "       'Fouls Committed', 'Own goal Time']\n",
    "plt.figure(figsize=(15,10))\n",
    "sns.heatmap((data[var].corr()), annot=True)"
   ]
  },
  {
   "cell_type": "markdown",
   "metadata": {
    "_uuid": "2fa60f40beae85633565c734d55986be7dd88f22"
   },
   "source": [
    "#### Features contributing values in 'Yello' , 'Ligh Yellow', 'Black' and 'Dark black' boxes can lead to multi-collinearity.\n",
    "    Colinearity is the state where two variables are highly correlated and contain similiar information about the variance within a given dataset. \n",
    "    \n",
    "    To detect colinearity among variables, simply create a correlation matrix and find variables with large absolute values. In R use the corr function and in python this can by accomplished by using numpy's corrcoef function.\n",
    "    \n",
    "    Multicolinearity on the other hand is more troublesome to detect because it emerges when three or more variables, which are highly correlated, are included within a model. To make matters worst multicolinearity can emerge even when isolated pairs of variables are not colinear. Multi-collinearity is an important pipeline steps fpr \n",
    "\n",
    "- Steps for Implementing VIF\n",
    "    - Run a multiple regression.\n",
    "    - Calculate the VIF factors.\n",
    "    - Inspect the factors for each predictor variable, if the VIF is between 5-10, multicolinearity is likely present and you should consider dropping the variable."
   ]
  },
  {
   "cell_type": "markdown",
   "metadata": {
    "_uuid": "b89bf2758192fb7b5e863ead4a118e278cd43a52"
   },
   "source": [
    "Let's understand relations of each of above 9 features with respect to 'Man of the match' closely using scatter plot, box plot etc.\n",
    "\n",
    "Scatter plot is another great tool to see correlation degree and direction among features.  Using seaborn pairplot makes this task easy for us by plotting all possible combinations."
   ]
  },
  {
   "cell_type": "code",
   "execution_count": null,
   "metadata": {
    "_uuid": "569759cbb7e5c8cc8ea33900874f53b7e36b6431",
    "scrolled": false
   },
   "outputs": [],
   "source": [
    "var1 = ['Goal Scored', 'On-Target', 'Corners', 'Attempts', 'Free Kicks', 'Yellow Card', 'Red', 'Fouls Committed']\n",
    "var1.append('Man of the Match')\n",
    "sns.pairplot(data[var1], hue = 'Man of the Match', palette=\"husl\")\n",
    "plt.show()"
   ]
  },
  {
   "cell_type": "markdown",
   "metadata": {
    "_uuid": "b0fb5f837340cb7c7f08fc097e5d0dff1d915a81"
   },
   "source": [
    "- As I can notice 'Attempts' is linearly proportional to 'On-Target' and 'Corners'\n",
    "- 'Corners' and 'On-Targets' are also linearly positively proportional"
   ]
  },
  {
   "cell_type": "markdown",
   "metadata": {
    "_uuid": "db1401aba231d5002772a6afa969db945ad094d8"
   },
   "source": [
    "## Outliers detection and removal"
   ]
  },
  {
   "cell_type": "code",
   "execution_count": null,
   "metadata": {
    "_uuid": "318d57be60f53e9bcfa29f6abbaa0cc8c5e21796"
   },
   "outputs": [],
   "source": [
    "dummy_data = data[var1]\n",
    "plt.figure(figsize=(20,10))\n",
    "sns.boxplot(data = dummy_data)\n",
    "plt.show()"
   ]
  },
  {
   "cell_type": "markdown",
   "metadata": {
    "_uuid": "4acf072aa9b462c0058419f764cb6b48203db428",
    "collapsed": true
   },
   "source": [
    "- As per boxplot there are :\n",
    "    - 1 outlier in Goal scored\n",
    "    - 2 in On-Target\n",
    "    - 1 in corners\n",
    "    - 2 in Attempts\n",
    "    - 3 in Yellow Card\n",
    "    - 1 in Red\n",
    "- In statistics, an outlier is an observation point that is distant from other observations. An outlier may be due to   variability in the measurement or it may indicate experimental error; the latter are sometimes excluded from the data set.\n",
    "- In simple words, for a normally distributed data any value that lies beyond range of 1.5 times IQR (Inter quartile range) is considered to be an outliers.\n",
    "- However, 'outliers = anything > 1.5*IQR' does not word practically, as real data are not normally distributed.\n",
    "- Pragmatic approach: plot scatter visualisation or boxplot and identify abnormally distant points\n",
    "\n",
    "-  The quantity of outliers present in this problem is not too huge and will not have gravity impact if left untreated. They are only few and within range."
   ]
  },
  {
   "attachments": {
    "image.png": {
     "image/png": "[encoded data removed]"
    }
   },
   "cell_type": "markdown",
   "metadata": {
    "_uuid": "6b57b031fc2a3d406bca9f235878dc8e7c98f23e",
    "collapsed": true
   },
   "source": [
    "## Missing values treatment\n",
    "![image.png](attachment:image.png)\n",
    "\n",
    "    - As 'own Goal Time' and 'Own goals' are having > 90% missing values, filling them with any combination will lead predictive model to false direction. So, dropping them is the best option\n",
    "    - '1st Goal' represents 'When did the team score the 1st goal?'\n",
    "    - As per discription 1st Goal should provide date information but the data is a numeric value.\n",
    "    - It's possible that these numerical values is nothing but number of days between two dates [Today's date - Date when team was formed']\n",
    "    - As Date when a team was formed is not given, missing values can be filled with some stats values.\n",
    "    - But, filling number of days information with mean, median, mode, etc. does not seem to be informative to me, and thus, I will drop this field to rather than using it by filling with uninformative data.\n",
    "    - Note: '1st Goal' is negligebly correlated with 'Man of the Match', hence, dropping this should not have any impact\n",
    "   "
   ]
  },
  {
   "cell_type": "code",
   "execution_count": null,
   "metadata": {
    "_uuid": "7ecce4523a493b0850836277e5a20a40f00631bb"
   },
   "outputs": [],
   "source": [
    "data.drop(['Own goal Time', 'Own goals', '1st Goal'], axis = 1, inplace= True)"
   ]
  },
  {
   "cell_type": "markdown",
   "metadata": {
    "_uuid": "792cced44ec5594c82c8a66b298a2afd3b52c052",
    "collapsed": true
   },
   "source": [
    "## Categorical features encoding\n",
    "    - As machine laearning models understand only numbers data in different formats including text and dates needs to be mapped into numbers prior to feeding to the model\n",
    "    - The process of changing non-numerical data into numerical is called 'Encoding'\n",
    "    - Before encoding let's understand how many categories or levels are present in each categorical features"
   ]
  },
  {
   "cell_type": "code",
   "execution_count": null,
   "metadata": {
    "_uuid": "bc642f49dfeb6fd93f5bfa7cea0f3ae507223d83"
   },
   "outputs": [],
   "source": [
    "categorical_features"
   ]
  },
  {
   "cell_type": "code",
   "execution_count": null,
   "metadata": {
    "_uuid": "65a44574f5193adbf20978741e32610f7297dfd0"
   },
   "outputs": [],
   "source": [
    "def uniqueCategories(x):\n",
    "    columns = list(x.columns).copy()\n",
    "    for col in columns:\n",
    "        print('Feature {} has {} unique values: {}'.format(col, len(x[col].unique()), x[col].unique()))\n",
    "        print('\\n')\n",
    "uniqueCategories(data[categorical_features].drop('Date', axis = 1))"
   ]
  },
  {
   "cell_type": "markdown",
   "metadata": {
    "_uuid": "482f966f31efc2ae37f3f366478b7123a29a56db"
   },
   "source": [
    "- Categorical -['Date', 'Team', 'Opponent','Round', 'PSO']\n",
    "    - Nominal - Team, Opponent\n",
    "    - Ordinal - Round\n",
    "    - Interval - Date, PSO is binary\n",
    "- Including nominal data is of no use, however, I am guessing combination of Team and Opponent should be useful. If not, we will drop them. Also, 'Man of the Match' depends, as per data, on goal scored. A player from good team should be capable enough to score high. So, team branding turns out to be an important factor. In our data, there is no way to identify each team brand value.\n",
    "- I believe 'Round' should also not have any impact on 'Man of the Match' because, a player performance should be consistent over all matches to become man of the match than just in a particular round. Thus, let's give equal weitage to each round.\n",
    "- PSO is binary \n",
    "- I am not going to include 'Match date' as it should definately not impact a player formance."
   ]
  },
  {
   "cell_type": "code",
   "execution_count": null,
   "metadata": {
    "_uuid": "47699a47e7f8e06387f4a829244a2106a2d70871"
   },
   "outputs": [],
   "source": [
    "data.drop('Date', axis = 1, inplace=True)"
   ]
  },
  {
   "cell_type": "markdown",
   "metadata": {
    "_uuid": "ba7a5ed867dd6579260cd64551e48cf45e0e8430"
   },
   "source": [
    " - Dropping \"Corners', 'Fouls Committed' and 'On-Targets' will remove high correlated elements and remove chances of multi-collinearity. these features are selected based on their low collinearity with 'Man of the Match' and high collinearity with other features."
   ]
  },
  {
   "cell_type": "code",
   "execution_count": null,
   "metadata": {
    "_uuid": "dfad447d6e8737a181fd08ef2d530d03021c6290"
   },
   "outputs": [],
   "source": [
    "data.drop(['Corners', 'Fouls Committed', 'On-Target'], axis = 1, inplace=True)"
   ]
  },
  {
   "cell_type": "code",
   "execution_count": null,
   "metadata": {
    "_uuid": "3ecc351349d20b246650e0403d65145059dcb388"
   },
   "outputs": [],
   "source": [
    "print(data.shape)\n",
    "data.head()"
   ]
  },
  {
   "cell_type": "code",
   "execution_count": null,
   "metadata": {
    "_uuid": "436f20419cdc5950d75d4616a03c0da7f3980b2b"
   },
   "outputs": [],
   "source": [
    "cleaned_data  = pd.get_dummies(data)"
   ]
  },
  {
   "cell_type": "code",
   "execution_count": null,
   "metadata": {
    "_uuid": "fe477b96aa95d86f79bedaae8035e7305538d413"
   },
   "outputs": [],
   "source": [
    "print(cleaned_data.shape)\n",
    "cleaned_data.head()"
   ]
  },
  {
   "cell_type": "markdown",
   "metadata": {
    "_uuid": "267100f417cf89440892c3c4051e327376c5f6d2"
   },
   "source": [
    "    - The data has been cleaned and is ready for further steps in data pipeling\n",
    "        - Pre-processing\n",
    "        - Modeling\n",
    "        - Evaluation\n",
    "        - Prediction"
   ]
  },
  {
   "cell_type": "markdown",
   "metadata": {
    "_uuid": "09c216e6f2ffef3154bd2ac71b00804e383bcee2",
    "collapsed": true
   },
   "source": [
    "***If you found the content informative to any extend, kindly encourge me by upvoting. :)***"
   ]
  }
 ],
 "metadata": {
  "kernelspec": {
   "display_name": "Python 3",
   "language": "python",
   "name": "python3"
  },
  "language_info": {
   "codemirror_mode": {
    "name": "ipython",
    "version": 3
   },
   "file_extension": ".py",
   "mimetype": "text/x-python",
   "name": "python",
   "nbconvert_exporter": "python",
   "pygments_lexer": "ipython3",
   "version": "3.6.5"
  }
 },
 "nbformat": 4,
 "nbformat_minor": 1
}
